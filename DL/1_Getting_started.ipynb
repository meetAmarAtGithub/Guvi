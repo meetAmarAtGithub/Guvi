{
  "nbformat": 4,
  "nbformat_minor": 0,
  "metadata": {
    "colab": {
      "provenance": [],
      "collapsed_sections": [],
      "authorship_tag": "ABX9TyNQ5EktRFzqCsjaDcPTxjvR",
      "include_colab_link": true
    },
    "kernelspec": {
      "name": "python3",
      "display_name": "Python 3"
    },
    "language_info": {
      "name": "python"
    }
  },
  "cells": [
    {
      "cell_type": "markdown",
      "metadata": {
        "id": "view-in-github",
        "colab_type": "text"
      },
      "source": [
        "<a href=\"https://colab.research.google.com/github/meetAmarAtGithub/Guvi/blob/main/DL/1_Getting_started.ipynb\" target=\"_parent\"><img src=\"https://colab.research.google.com/assets/colab-badge.svg\" alt=\"Open In Colab\"/></a>"
      ]
    },
    {
      "cell_type": "markdown",
      "source": [
        "# 3. Tuple\n",
        "\n",
        "> Indented block\n",
        "\n"
      ],
      "metadata": {
        "id": "QrzJLK65gzBi"
      }
    },
    {
      "cell_type": "code",
      "execution_count": 1,
      "metadata": {
        "colab": {
          "base_uri": "https://localhost:8080/"
        },
        "id": "cxhltFxhgMwC",
        "outputId": "be829609-90b5-43c0-f399-9c8ce669e6d9"
      },
      "outputs": [
        {
          "output_type": "stream",
          "name": "stdout",
          "text": [
            "('I phone 5', False, 3)\n"
          ]
        }
      ],
      "source": [
        "my_phone_tuple = ('I phone 5', False, 3)\n",
        "print(my_phone_tuple)"
      ]
    },
    {
      "cell_type": "code",
      "source": [
        "my_phone_tuple[0]"
      ],
      "metadata": {
        "colab": {
          "base_uri": "https://localhost:8080/",
          "height": 35
        },
        "id": "ydteYU-Kgtr9",
        "outputId": "49f0aa72-f145-465b-ef1d-813722b8c4f3"
      },
      "execution_count": 2,
      "outputs": [
        {
          "output_type": "execute_result",
          "data": {
            "text/plain": [
              "'I phone 5'"
            ],
            "application/vnd.google.colaboratory.intrinsic+json": {
              "type": "string"
            }
          },
          "metadata": {},
          "execution_count": 2
        }
      ]
    },
    {
      "cell_type": "code",
      "source": [
        "my_phone_tuple[0:2]"
      ],
      "metadata": {
        "colab": {
          "base_uri": "https://localhost:8080/"
        },
        "id": "VbtoqtDPgwg9",
        "outputId": "ad8f2c53-a9a5-4b4a-f376-2b6c5aa02449"
      },
      "execution_count": 3,
      "outputs": [
        {
          "output_type": "execute_result",
          "data": {
            "text/plain": [
              "('I phone 5', False)"
            ]
          },
          "metadata": {},
          "execution_count": 3
        }
      ]
    },
    {
      "cell_type": "code",
      "source": [
        "for data in my_phone_tuple:\n",
        "  print(data)"
      ],
      "metadata": {
        "colab": {
          "base_uri": "https://localhost:8080/"
        },
        "id": "iOh1O1wThzS4",
        "outputId": "b9e24d08-b162-4842-b4b5-f4b943cdafd2"
      },
      "execution_count": 4,
      "outputs": [
        {
          "output_type": "stream",
          "name": "stdout",
          "text": [
            "I phone 5\n",
            "False\n",
            "3\n"
          ]
        }
      ]
    },
    {
      "cell_type": "code",
      "source": [
        "import time\n",
        "tic = time.time()\n",
        "toc = time.time()\n",
        "print('Elapsed time', toc - tic)"
      ],
      "metadata": {
        "colab": {
          "base_uri": "https://localhost:8080/"
        },
        "id": "bkuNpGgTh6y4",
        "outputId": "2c552549-eeb7-4418-9407-347709506c1f"
      },
      "execution_count": 1,
      "outputs": [
        {
          "output_type": "stream",
          "name": "stdout",
          "text": [
            "Elapsed time 4.100799560546875e-05\n"
          ]
        }
      ]
    },
    {
      "cell_type": "markdown",
      "source": [
        "# proof tuple execution is faster"
      ],
      "metadata": {
        "id": "SQ1TrDiFltXL"
      }
    },
    {
      "cell_type": "code",
      "source": [
        "my_list = list(range(10000000))\n",
        "tic = time.time()\n",
        "my_list_squared = map(lambda i : i ** 2, my_list)\n",
        "toc = time.time()\n",
        "list_toc = toc - tic\n",
        "print('Elapsed time in seconds', list_toc)"
      ],
      "metadata": {
        "colab": {
          "base_uri": "https://localhost:8080/"
        },
        "id": "bU5uDzBIjOlz",
        "outputId": "e0e17646-44d2-4cb9-a4d9-69cd143cc6e7"
      },
      "execution_count": 5,
      "outputs": [
        {
          "output_type": "stream",
          "name": "stdout",
          "text": [
            "Elapsed time in seconds 0.0001442432403564453\n"
          ]
        }
      ]
    },
    {
      "cell_type": "code",
      "source": [
        "my_tuple = tuple(range(10000000))\n",
        "tic = time.time()\n",
        "my_list_squared = map(lambda i : i ** 2, my_tuple)\n",
        "toc = time.time()\n",
        "tuple_toc = toc - tic\n",
        "print('Elapsed time in seconds',  tuple_toc)"
      ],
      "metadata": {
        "colab": {
          "base_uri": "https://localhost:8080/"
        },
        "id": "cPxnR3uqj1zi",
        "outputId": "7e7821b8-c48c-4e5d-d1d2-326cef8325ad"
      },
      "execution_count": 6,
      "outputs": [
        {
          "output_type": "stream",
          "name": "stdout",
          "text": [
            "Elapsed time in seconds 0.00014066696166992188\n"
          ]
        }
      ]
    },
    {
      "cell_type": "code",
      "source": [
        "if tuple_toc > list_toc:\n",
        "  print('Tuple is slower than list')\n",
        "else:\n",
        "  print('Tuple is faster than list')"
      ],
      "metadata": {
        "colab": {
          "base_uri": "https://localhost:8080/"
        },
        "id": "fTpq_Fctl5Mp",
        "outputId": "a0116e46-facd-41c2-e6bf-aa8ba2b4cd7c"
      },
      "execution_count": 9,
      "outputs": [
        {
          "output_type": "stream",
          "name": "stdout",
          "text": [
            "Tuple is faster than list\n"
          ]
        }
      ]
    },
    {
      "cell_type": "code",
      "source": [],
      "metadata": {
        "id": "RQ3c5RF2m0Nq"
      },
      "execution_count": null,
      "outputs": []
    }
  ]
}