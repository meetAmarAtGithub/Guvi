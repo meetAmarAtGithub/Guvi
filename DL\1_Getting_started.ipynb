{
  "nbformat": 4,
  "nbformat_minor": 0,
  "metadata": {
    "colab": {
      "provenance": [],
      "collapsed_sections": [],
      "authorship_tag": "ABX9TyMrfFgZPzmiwznY82eLA4H1",
      "include_colab_link": true
    },
    "kernelspec": {
      "name": "python3",
      "display_name": "Python 3"
    },
    "language_info": {
      "name": "python"
    }
  },
  "cells": [
    {
      "cell_type": "markdown",
      "metadata": {
        "id": "view-in-github",
        "colab_type": "text"
      },
      "source": [
        "<a href=\"https://colab.research.google.com/github/meetAmarAtGithub/Guvi/blob/main/DL%5C1_Getting_started.ipynb\" target=\"_parent\"><img src=\"https://colab.research.google.com/assets/colab-badge.svg\" alt=\"Open In Colab\"/></a>"
      ]
    },
    {
      "cell_type": "markdown",
      "source": [
        "# <font color=\"blue\">Python basics: Tuples, Sets, Dictionaries</font>"
      ],
      "metadata": {
        "id": "EU9EKtd1tY4N"
      }
    },
    {
      "cell_type": "markdown",
      "source": [
        "# *Tuple*\n",
        "\n"
      ],
      "metadata": {
        "id": "QrzJLK65gzBi"
      }
    },
    {
      "cell_type": "code",
      "execution_count": 15,
      "metadata": {
        "colab": {
          "base_uri": "https://localhost:8080/"
        },
        "id": "cxhltFxhgMwC",
        "outputId": "5d58f421-66f0-45b5-ed7e-c596c4e84d68"
      },
      "outputs": [
        {
          "output_type": "stream",
          "name": "stdout",
          "text": [
            "('I phone 5', False, 3)\n"
          ]
        }
      ],
      "source": [
        "my_phone_tuple = ('I phone 5', False, 3)\n",
        "print(my_phone_tuple)"
      ]
    },
    {
      "cell_type": "code",
      "source": [
        "my_phone_tuple[0]"
      ],
      "metadata": {
        "colab": {
          "base_uri": "https://localhost:8080/",
          "height": 35
        },
        "id": "ydteYU-Kgtr9",
        "outputId": "1b093aff-fb76-4f9b-ee76-ea5e3c542dd8"
      },
      "execution_count": 16,
      "outputs": [
        {
          "output_type": "execute_result",
          "data": {
            "text/plain": [
              "'I phone 5'"
            ],
            "application/vnd.google.colaboratory.intrinsic+json": {
              "type": "string"
            }
          },
          "metadata": {},
          "execution_count": 16
        }
      ]
    },
    {
      "cell_type": "code",
      "source": [
        "my_phone_tuple[0:2]"
      ],
      "metadata": {
        "colab": {
          "base_uri": "https://localhost:8080/"
        },
        "id": "VbtoqtDPgwg9",
        "outputId": "f1e460e4-f94b-497a-c73a-4d0b0dee9eae"
      },
      "execution_count": 17,
      "outputs": [
        {
          "output_type": "execute_result",
          "data": {
            "text/plain": [
              "('I phone 5', False)"
            ]
          },
          "metadata": {},
          "execution_count": 17
        }
      ]
    },
    {
      "cell_type": "code",
      "source": [
        "for data in my_phone_tuple:\n",
        "  print(data)"
      ],
      "metadata": {
        "colab": {
          "base_uri": "https://localhost:8080/"
        },
        "id": "iOh1O1wThzS4",
        "outputId": "2bc258c8-8b04-4519-f91a-3820c7f7ef3f"
      },
      "execution_count": 18,
      "outputs": [
        {
          "output_type": "stream",
          "name": "stdout",
          "text": [
            "I phone 5\n",
            "False\n",
            "3\n"
          ]
        }
      ]
    },
    {
      "cell_type": "code",
      "source": [
        "import time\n",
        "tic = time.time()\n",
        "toc = time.time()\n",
        "print('Elapsed time', toc - tic)"
      ],
      "metadata": {
        "colab": {
          "base_uri": "https://localhost:8080/"
        },
        "id": "bkuNpGgTh6y4",
        "outputId": "b7dc4ba3-1b27-4bd7-e6bc-d90a80984c1b"
      },
      "execution_count": 11,
      "outputs": [
        {
          "output_type": "stream",
          "name": "stdout",
          "text": [
            "Elapsed time 6.031990051269531e-05\n"
          ]
        }
      ]
    },
    {
      "cell_type": "markdown",
      "source": [
        "# proof tuple execution is faster"
      ],
      "metadata": {
        "id": "SQ1TrDiFltXL"
      }
    },
    {
      "cell_type": "code",
      "source": [
        "my_list = list(range(10000000))\n",
        "tic = time.time()\n",
        "my_list_squared = map(lambda i : i ** 2, my_list)\n",
        "toc = time.time()\n",
        "list_toc = toc - tic\n",
        "print('Elapsed time in seconds', list_toc)"
      ],
      "metadata": {
        "colab": {
          "base_uri": "https://localhost:8080/"
        },
        "id": "bU5uDzBIjOlz",
        "outputId": "7ccefd1b-bad4-47f6-9924-a1d21b026ba5"
      },
      "execution_count": 20,
      "outputs": [
        {
          "output_type": "stream",
          "name": "stdout",
          "text": [
            "Elapsed time in seconds 0.00015783309936523438\n"
          ]
        }
      ]
    },
    {
      "cell_type": "code",
      "source": [
        "my_tuple = tuple(range(10000000))\n",
        "tic = time.time()\n",
        "my_list_squared = map(lambda i : i ** 2, my_tuple)\n",
        "toc = time.time()\n",
        "tuple_toc = toc - tic\n",
        "print('Elapsed time in seconds',  tuple_toc)"
      ],
      "metadata": {
        "colab": {
          "base_uri": "https://localhost:8080/"
        },
        "id": "cPxnR3uqj1zi",
        "outputId": "cfa735cd-4cdd-4611-8661-0daf13df4dac"
      },
      "execution_count": 21,
      "outputs": [
        {
          "output_type": "stream",
          "name": "stdout",
          "text": [
            "Elapsed time in seconds 0.00010371208190917969\n"
          ]
        }
      ]
    },
    {
      "cell_type": "code",
      "source": [
        "if tuple_toc > list_toc:\n",
        "  print('Tuple is slower than list')\n",
        "else:\n",
        "  print('Tuple is faster than list')"
      ],
      "metadata": {
        "colab": {
          "base_uri": "https://localhost:8080/"
        },
        "id": "fTpq_Fctl5Mp",
        "outputId": "0e48d3d2-b9fc-40d2-8f59-8b2c6d2b47f8"
      },
      "execution_count": 22,
      "outputs": [
        {
          "output_type": "stream",
          "name": "stdout",
          "text": [
            "Tuple is faster than list\n"
          ]
        }
      ]
    },
    {
      "cell_type": "markdown",
      "source": [
        "# Sets"
      ],
      "metadata": {
        "id": "sVsn-O2JpnNE"
      }
    },
    {
      "cell_type": "code",
      "source": [
        "my_set = set(my_list[0:30])\n",
        "print(my_set)"
      ],
      "metadata": {
        "colab": {
          "base_uri": "https://localhost:8080/"
        },
        "id": "RQ3c5RF2m0Nq",
        "outputId": "07f4ba52-5473-45f0-b771-c5e9874278f8"
      },
      "execution_count": 23,
      "outputs": [
        {
          "output_type": "stream",
          "name": "stdout",
          "text": [
            "{0, 1, 2, 3, 4, 5, 6, 7, 8, 9, 10, 11, 12, 13, 14, 15, 16, 17, 18, 19, 20, 21, 22, 23, 24, 25, 26, 27, 28, 29}\n"
          ]
        }
      ]
    },
    {
      "cell_type": "code",
      "source": [
        "my_list = ['IPhone',4.3,False,4.3]\n",
        "print(my_list)"
      ],
      "metadata": {
        "colab": {
          "base_uri": "https://localhost:8080/"
        },
        "id": "rik_UaDbpt3O",
        "outputId": "db514de5-0d69-4e06-f76b-4da054fcb3ae"
      },
      "execution_count": 25,
      "outputs": [
        {
          "output_type": "stream",
          "name": "stdout",
          "text": [
            "['IPhone', 4.3, False, 4.3]\n"
          ]
        }
      ]
    },
    {
      "cell_type": "code",
      "source": [
        "#set returns unique items in list / tuple\n",
        "my_set = set(my_list)\n",
        "print(my_set)"
      ],
      "metadata": {
        "colab": {
          "base_uri": "https://localhost:8080/"
        },
        "id": "y-SwJJlHq0bp",
        "outputId": "bd5f9e60-4348-4b4d-b5b5-13b0267f4f94"
      },
      "execution_count": 27,
      "outputs": [
        {
          "output_type": "stream",
          "name": "stdout",
          "text": [
            "{False, 4.3, 'IPhone'}\n"
          ]
        }
      ]
    },
    {
      "cell_type": "markdown",
      "source": [
        "# Dictionary"
      ],
      "metadata": {
        "id": "jbfFtLPIrz0F"
      }
    },
    {
      "cell_type": "code",
      "source": [
        "my_phone_dict = {}\n",
        "print(type(my_phone_dict))"
      ],
      "metadata": {
        "colab": {
          "base_uri": "https://localhost:8080/"
        },
        "id": "HZo30sOGrNOz",
        "outputId": "f835ca3b-b3c3-4cb3-f894-a4ef7196dfd1"
      },
      "execution_count": 30,
      "outputs": [
        {
          "output_type": "stream",
          "name": "stdout",
          "text": [
            "<class 'dict'>\n"
          ]
        }
      ]
    },
    {
      "cell_type": "code",
      "source": [
        "my_phone_dict['name'] = 'Iphone 5s'\n",
        "my_phone_dict['isAndriod'] = False\n",
        "my_phone_dict['screenSize'] = 4.3\n",
        "print(my_phone_dict)"
      ],
      "metadata": {
        "colab": {
          "base_uri": "https://localhost:8080/"
        },
        "id": "qCnGKDX1r8Mj",
        "outputId": "d0b459f0-6ed8-40a2-94e2-bcb8214f0a85"
      },
      "execution_count": 32,
      "outputs": [
        {
          "output_type": "stream",
          "name": "stdout",
          "text": [
            "{'name': 'Iphone 5s', 'isAndriod': False, 'screenSize': 4.3}\n"
          ]
        }
      ]
    },
    {
      "cell_type": "code",
      "source": [
        "my_phone_dict['name']"
      ],
      "metadata": {
        "colab": {
          "base_uri": "https://localhost:8080/",
          "height": 35
        },
        "id": "dPHMU2dvsbkX",
        "outputId": "5d0be36d-359a-4ab1-a071-848044618f92"
      },
      "execution_count": 33,
      "outputs": [
        {
          "output_type": "execute_result",
          "data": {
            "text/plain": [
              "'Iphone 5s'"
            ],
            "application/vnd.google.colaboratory.intrinsic+json": {
              "type": "string"
            }
          },
          "metadata": {},
          "execution_count": 33
        }
      ]
    },
    {
      "cell_type": "code",
      "source": [
        "print(my_phone_dict.keys())"
      ],
      "metadata": {
        "colab": {
          "base_uri": "https://localhost:8080/"
        },
        "id": "nrjZogkBspAP",
        "outputId": "e2b54d6e-cd11-4b9f-d989-595c461b7d66"
      },
      "execution_count": 34,
      "outputs": [
        {
          "output_type": "stream",
          "name": "stdout",
          "text": [
            "dict_keys(['name', 'isAndriod', 'screenSize'])\n"
          ]
        }
      ]
    },
    {
      "cell_type": "code",
      "source": [
        "print(my_phone_dict.values())"
      ],
      "metadata": {
        "colab": {
          "base_uri": "https://localhost:8080/"
        },
        "id": "DGpZurbusvX4",
        "outputId": "4ec6fab9-41ca-4862-e378-c64c0d911828"
      },
      "execution_count": 35,
      "outputs": [
        {
          "output_type": "stream",
          "name": "stdout",
          "text": [
            "dict_values(['Iphone 5s', False, 4.3])\n"
          ]
        }
      ]
    },
    {
      "cell_type": "code",
      "source": [
        "print(my_phone_dict.items())"
      ],
      "metadata": {
        "colab": {
          "base_uri": "https://localhost:8080/"
        },
        "id": "dXA06Y51szcy",
        "outputId": "342b273a-0161-4a7f-d436-59edff1d66ba"
      },
      "execution_count": 36,
      "outputs": [
        {
          "output_type": "stream",
          "name": "stdout",
          "text": [
            "dict_items([('name', 'Iphone 5s'), ('isAndriod', False), ('screenSize', 4.3)])\n"
          ]
        }
      ]
    },
    {
      "cell_type": "code",
      "source": [
        "for key in my_phone_dict.keys():\n",
        "  print(key, my_phone_dict[key])"
      ],
      "metadata": {
        "colab": {
          "base_uri": "https://localhost:8080/"
        },
        "id": "EqgXboGas7yS",
        "outputId": "48ea95a4-e1a5-4a58-aa29-0f32d27f34da"
      },
      "execution_count": 38,
      "outputs": [
        {
          "output_type": "stream",
          "name": "stdout",
          "text": [
            "name Iphone 5s\n",
            "isAndriod False\n",
            "screenSize 4.3\n"
          ]
        }
      ]
    },
    {
      "cell_type": "markdown",
      "source": [
        "# <font color=\"blue\"> Python Baics : Packages </font>"
      ],
      "metadata": {
        "id": "IRqpnMkbt3aF"
      }
    },
    {
      "cell_type": "code",
      "source": [
        "import math"
      ],
      "metadata": {
        "id": "ASaAaJFOtBVE"
      },
      "execution_count": 1,
      "outputs": []
    },
    {
      "cell_type": "code",
      "source": [
        "print(math.sqrt(100))"
      ],
      "metadata": {
        "colab": {
          "base_uri": "https://localhost:8080/"
        },
        "id": "vJhysHgsY64Z",
        "outputId": "4540e713-700a-4308-cece-93164d23fe31"
      },
      "execution_count": 2,
      "outputs": [
        {
          "output_type": "stream",
          "name": "stdout",
          "text": [
            "10.0\n"
          ]
        }
      ]
    },
    {
      "cell_type": "code",
      "source": [
        "print(math.pow(100,0.5))"
      ],
      "metadata": {
        "colab": {
          "base_uri": "https://localhost:8080/"
        },
        "id": "tb5eqgOvZDQi",
        "outputId": "f533724a-1095-42bb-d418-d5b99df399ef"
      },
      "execution_count": 4,
      "outputs": [
        {
          "output_type": "stream",
          "name": "stdout",
          "text": [
            "10.0\n"
          ]
        }
      ]
    },
    {
      "cell_type": "markdown",
      "source": [
        "Math Library provides lots of in built functions"
      ],
      "metadata": {
        "id": "-pdMAHMdZpVd"
      }
    },
    {
      "cell_type": "code",
      "source": [
        "#For example of to calculate factorial of 100 \n",
        "x = 100\n",
        "y = 1\n",
        "for i in range(1, x):\n",
        "  y *= i\n",
        "print('Factorial of x is - ', x , ' is ', y)"
      ],
      "metadata": {
        "colab": {
          "base_uri": "https://localhost:8080/"
        },
        "id": "5iWWbzVwZM5X",
        "outputId": "632dd437-7c8f-4922-b01b-4aa34811b2a8"
      },
      "execution_count": 6,
      "outputs": [
        {
          "output_type": "stream",
          "name": "stdout",
          "text": [
            "Factorial of x is -  100  is  933262154439441526816992388562667004907159682643816214685929638952175999932299156089414639761565182862536979208272237582511852109168640000000000000000000000\n"
          ]
        }
      ]
    },
    {
      "cell_type": "code",
      "source": [
        "#Using math function it is just one linear code\n",
        "print(math.factorial(x))"
      ],
      "metadata": {
        "colab": {
          "base_uri": "https://localhost:8080/"
        },
        "id": "mds2wgwJZm2x",
        "outputId": "d713b613-3776-4ad3-ba53-704c99bd31cf"
      },
      "execution_count": 8,
      "outputs": [
        {
          "output_type": "stream",
          "name": "stdout",
          "text": [
            "93326215443944152681699238856266700490715968264381621468592963895217599993229915608941463976156518286253697920827223758251185210916864000000000000000000000000\n"
          ]
        }
      ]
    },
    {
      "cell_type": "code",
      "source": [
        "from math import factorial\n",
        "print(factorial (x))"
      ],
      "metadata": {
        "colab": {
          "base_uri": "https://localhost:8080/"
        },
        "id": "IMWYFErFZ4Fo",
        "outputId": "893e03d2-0de8-431f-bf48-5b0ec3a5b53d"
      },
      "execution_count": 9,
      "outputs": [
        {
          "output_type": "stream",
          "name": "stdout",
          "text": [
            "93326215443944152681699238856266700490715968264381621468592963895217599993229915608941463976156518286253697920827223758251185210916864000000000000000000000000\n"
          ]
        }
      ]
    },
    {
      "cell_type": "code",
      "source": [
        "vals = list(range(1,100))\n",
        "tic = time.time()\n",
        "for x in vals:\n",
        "  y = 1\n",
        "  for i in range(1,x):\n",
        "    y *= i\n",
        "toc = time.time()\n",
        "ownFuncTime = toc - tic\n",
        "print('Time elapsed in seconds with own function', ownFuncTime)\n",
        "\n",
        "tic = time.time()\n",
        "for x in vals:\n",
        "  y = factorial(x)\n",
        "toc = time.time()\n",
        "FunctionTimeDiff = toc - tic\n",
        "print('Time elapsed in seconds with own function', FunctionTimeDiff)\n",
        "\n",
        "if(FunctionTimeDiff > ownFuncTime):\n",
        "  print('Own function is faster')\n",
        "else:\n",
        "  print('Math functions are faster')"
      ],
      "metadata": {
        "colab": {
          "base_uri": "https://localhost:8080/"
        },
        "id": "QiLdc1j5b-BI",
        "outputId": "503f3739-ebd8-4597-976a-2b628ca07dbb"
      },
      "execution_count": 13,
      "outputs": [
        {
          "output_type": "stream",
          "name": "stdout",
          "text": [
            "Time elapsed in seconds with own function 0.0023925304412841797\n",
            "Time elapsed in seconds with own function 0.0002181529998779297\n",
            "Math functions are faster\n"
          ]
        }
      ]
    },
    {
      "cell_type": "markdown",
      "source": [
        "# Use your own package"
      ],
      "metadata": {
        "id": "I4XbVROberCi"
      }
    },
    {
      "cell_type": "code",
      "source": [
        "!echo 'def hello():' > my_first_module.py\n",
        "!echo '  print(\"Hello, I am living in a different file!!!!\")' >> my_first_module.py"
      ],
      "metadata": {
        "id": "U8v-ynHLdNwC"
      },
      "execution_count": 14,
      "outputs": []
    },
    {
      "cell_type": "code",
      "source": [
        "!cat my_first_module.py"
      ],
      "metadata": {
        "colab": {
          "base_uri": "https://localhost:8080/"
        },
        "id": "VQE0h72efI_q",
        "outputId": "4e07e230-893a-453e-877d-6f74739a931e"
      },
      "execution_count": 15,
      "outputs": [
        {
          "output_type": "stream",
          "name": "stdout",
          "text": [
            "def hello():\n",
            "  print(\"Hello, I am living in a different file!!!!\")\n"
          ]
        }
      ]
    },
    {
      "cell_type": "code",
      "source": [
        "#In order to use this file in your code, import it first\n",
        "import my_first_module\n",
        "my_first_module.hello()"
      ],
      "metadata": {
        "colab": {
          "base_uri": "https://localhost:8080/"
        },
        "id": "eROhLNCHfN7K",
        "outputId": "80dd1132-41ea-497e-a8de-7b95840555e9"
      },
      "execution_count": 16,
      "outputs": [
        {
          "output_type": "stream",
          "name": "stdout",
          "text": [
            "Hello, I am living in a different file!!!!\n"
          ]
        }
      ]
    },
    {
      "cell_type": "code",
      "source": [
        "from my_first_module import hello\n",
        "hello()"
      ],
      "metadata": {
        "colab": {
          "base_uri": "https://localhost:8080/"
        },
        "id": "ubrrdD7Vfcoc",
        "outputId": "a8c12d86-56d3-42a9-ce63-698bcb6ff115"
      },
      "execution_count": 17,
      "outputs": [
        {
          "output_type": "stream",
          "name": "stdout",
          "text": [
            "Hello, I am living in a different file!!!!\n"
          ]
        }
      ]
    }
  ]
}