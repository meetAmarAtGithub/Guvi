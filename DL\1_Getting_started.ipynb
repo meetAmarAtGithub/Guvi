{
  "nbformat": 4,
  "nbformat_minor": 0,
  "metadata": {
    "colab": {
      "provenance": [],
      "collapsed_sections": [],
      "authorship_tag": "ABX9TyMPsxezPI4+ctetADugFETW",
      "include_colab_link": true
    },
    "kernelspec": {
      "name": "python3",
      "display_name": "Python 3"
    },
    "language_info": {
      "name": "python"
    }
  },
  "cells": [
    {
      "cell_type": "markdown",
      "metadata": {
        "id": "view-in-github",
        "colab_type": "text"
      },
      "source": [
        "<a href=\"https://colab.research.google.com/github/meetAmarAtGithub/Guvi/blob/main/DL%5C1_Getting_started.ipynb\" target=\"_parent\"><img src=\"https://colab.research.google.com/assets/colab-badge.svg\" alt=\"Open In Colab\"/></a>"
      ]
    },
    {
      "cell_type": "markdown",
      "source": [
        "# <font color=\"blue\">Python basics: Tuples, Sets, Dictionaries</font>"
      ],
      "metadata": {
        "id": "EU9EKtd1tY4N"
      }
    },
    {
      "cell_type": "markdown",
      "source": [
        "# *Tuple*\n",
        "\n"
      ],
      "metadata": {
        "id": "QrzJLK65gzBi"
      }
    },
    {
      "cell_type": "code",
      "execution_count": null,
      "metadata": {
        "colab": {
          "base_uri": "https://localhost:8080/"
        },
        "id": "cxhltFxhgMwC",
        "outputId": "5d58f421-66f0-45b5-ed7e-c596c4e84d68"
      },
      "outputs": [
        {
          "output_type": "stream",
          "name": "stdout",
          "text": [
            "('I phone 5', False, 3)\n"
          ]
        }
      ],
      "source": [
        "my_phone_tuple = ('I phone 5', False, 3)\n",
        "print(my_phone_tuple)"
      ]
    },
    {
      "cell_type": "code",
      "source": [
        "my_phone_tuple[0]"
      ],
      "metadata": {
        "colab": {
          "base_uri": "https://localhost:8080/",
          "height": 35
        },
        "id": "ydteYU-Kgtr9",
        "outputId": "1b093aff-fb76-4f9b-ee76-ea5e3c542dd8"
      },
      "execution_count": null,
      "outputs": [
        {
          "output_type": "execute_result",
          "data": {
            "text/plain": [
              "'I phone 5'"
            ],
            "application/vnd.google.colaboratory.intrinsic+json": {
              "type": "string"
            }
          },
          "metadata": {},
          "execution_count": 16
        }
      ]
    },
    {
      "cell_type": "code",
      "source": [
        "my_phone_tuple[0:2]"
      ],
      "metadata": {
        "colab": {
          "base_uri": "https://localhost:8080/"
        },
        "id": "VbtoqtDPgwg9",
        "outputId": "f1e460e4-f94b-497a-c73a-4d0b0dee9eae"
      },
      "execution_count": null,
      "outputs": [
        {
          "output_type": "execute_result",
          "data": {
            "text/plain": [
              "('I phone 5', False)"
            ]
          },
          "metadata": {},
          "execution_count": 17
        }
      ]
    },
    {
      "cell_type": "code",
      "source": [
        "for data in my_phone_tuple:\n",
        "  print(data)"
      ],
      "metadata": {
        "colab": {
          "base_uri": "https://localhost:8080/"
        },
        "id": "iOh1O1wThzS4",
        "outputId": "2bc258c8-8b04-4519-f91a-3820c7f7ef3f"
      },
      "execution_count": null,
      "outputs": [
        {
          "output_type": "stream",
          "name": "stdout",
          "text": [
            "I phone 5\n",
            "False\n",
            "3\n"
          ]
        }
      ]
    },
    {
      "cell_type": "code",
      "source": [
        "import time\n",
        "tic = time.time()\n",
        "toc = time.time()\n",
        "print('Elapsed time', toc - tic)"
      ],
      "metadata": {
        "colab": {
          "base_uri": "https://localhost:8080/"
        },
        "id": "bkuNpGgTh6y4",
        "outputId": "b7dc4ba3-1b27-4bd7-e6bc-d90a80984c1b"
      },
      "execution_count": null,
      "outputs": [
        {
          "output_type": "stream",
          "name": "stdout",
          "text": [
            "Elapsed time 6.031990051269531e-05\n"
          ]
        }
      ]
    },
    {
      "cell_type": "markdown",
      "source": [
        "# proof tuple execution is faster"
      ],
      "metadata": {
        "id": "SQ1TrDiFltXL"
      }
    },
    {
      "cell_type": "code",
      "source": [
        "my_list = list(range(10000000))\n",
        "tic = time.time()\n",
        "my_list_squared = map(lambda i : i ** 2, my_list)\n",
        "toc = time.time()\n",
        "list_toc = toc - tic\n",
        "print('Elapsed time in seconds', list_toc)"
      ],
      "metadata": {
        "colab": {
          "base_uri": "https://localhost:8080/"
        },
        "id": "bU5uDzBIjOlz",
        "outputId": "7ccefd1b-bad4-47f6-9924-a1d21b026ba5"
      },
      "execution_count": null,
      "outputs": [
        {
          "output_type": "stream",
          "name": "stdout",
          "text": [
            "Elapsed time in seconds 0.00015783309936523438\n"
          ]
        }
      ]
    },
    {
      "cell_type": "code",
      "source": [
        "my_tuple = tuple(range(10000000))\n",
        "tic = time.time()\n",
        "my_list_squared = map(lambda i : i ** 2, my_tuple)\n",
        "toc = time.time()\n",
        "tuple_toc = toc - tic\n",
        "print('Elapsed time in seconds',  tuple_toc)"
      ],
      "metadata": {
        "colab": {
          "base_uri": "https://localhost:8080/"
        },
        "id": "cPxnR3uqj1zi",
        "outputId": "cfa735cd-4cdd-4611-8661-0daf13df4dac"
      },
      "execution_count": null,
      "outputs": [
        {
          "output_type": "stream",
          "name": "stdout",
          "text": [
            "Elapsed time in seconds 0.00010371208190917969\n"
          ]
        }
      ]
    },
    {
      "cell_type": "code",
      "source": [
        "if tuple_toc > list_toc:\n",
        "  print('Tuple is slower than list')\n",
        "else:\n",
        "  print('Tuple is faster than list')"
      ],
      "metadata": {
        "colab": {
          "base_uri": "https://localhost:8080/"
        },
        "id": "fTpq_Fctl5Mp",
        "outputId": "0e48d3d2-b9fc-40d2-8f59-8b2c6d2b47f8"
      },
      "execution_count": null,
      "outputs": [
        {
          "output_type": "stream",
          "name": "stdout",
          "text": [
            "Tuple is faster than list\n"
          ]
        }
      ]
    },
    {
      "cell_type": "markdown",
      "source": [
        "# Sets"
      ],
      "metadata": {
        "id": "sVsn-O2JpnNE"
      }
    },
    {
      "cell_type": "code",
      "source": [
        "my_set = set(my_list[0:30])\n",
        "print(my_set)"
      ],
      "metadata": {
        "colab": {
          "base_uri": "https://localhost:8080/"
        },
        "id": "RQ3c5RF2m0Nq",
        "outputId": "07f4ba52-5473-45f0-b771-c5e9874278f8"
      },
      "execution_count": null,
      "outputs": [
        {
          "output_type": "stream",
          "name": "stdout",
          "text": [
            "{0, 1, 2, 3, 4, 5, 6, 7, 8, 9, 10, 11, 12, 13, 14, 15, 16, 17, 18, 19, 20, 21, 22, 23, 24, 25, 26, 27, 28, 29}\n"
          ]
        }
      ]
    },
    {
      "cell_type": "code",
      "source": [
        "my_list = ['IPhone',4.3,False,4.3]\n",
        "print(my_list)"
      ],
      "metadata": {
        "colab": {
          "base_uri": "https://localhost:8080/"
        },
        "id": "rik_UaDbpt3O",
        "outputId": "db514de5-0d69-4e06-f76b-4da054fcb3ae"
      },
      "execution_count": null,
      "outputs": [
        {
          "output_type": "stream",
          "name": "stdout",
          "text": [
            "['IPhone', 4.3, False, 4.3]\n"
          ]
        }
      ]
    },
    {
      "cell_type": "code",
      "source": [
        "#set returns unique items in list / tuple\n",
        "my_set = set(my_list)\n",
        "print(my_set)"
      ],
      "metadata": {
        "colab": {
          "base_uri": "https://localhost:8080/"
        },
        "id": "y-SwJJlHq0bp",
        "outputId": "bd5f9e60-4348-4b4d-b5b5-13b0267f4f94"
      },
      "execution_count": null,
      "outputs": [
        {
          "output_type": "stream",
          "name": "stdout",
          "text": [
            "{False, 4.3, 'IPhone'}\n"
          ]
        }
      ]
    },
    {
      "cell_type": "markdown",
      "source": [
        "# Dictionary"
      ],
      "metadata": {
        "id": "jbfFtLPIrz0F"
      }
    },
    {
      "cell_type": "code",
      "source": [
        "my_phone_dict = {}\n",
        "print(type(my_phone_dict))"
      ],
      "metadata": {
        "colab": {
          "base_uri": "https://localhost:8080/"
        },
        "id": "HZo30sOGrNOz",
        "outputId": "f835ca3b-b3c3-4cb3-f894-a4ef7196dfd1"
      },
      "execution_count": null,
      "outputs": [
        {
          "output_type": "stream",
          "name": "stdout",
          "text": [
            "<class 'dict'>\n"
          ]
        }
      ]
    },
    {
      "cell_type": "code",
      "source": [
        "my_phone_dict['name'] = 'Iphone 5s'\n",
        "my_phone_dict['isAndriod'] = False\n",
        "my_phone_dict['screenSize'] = 4.3\n",
        "print(my_phone_dict)"
      ],
      "metadata": {
        "colab": {
          "base_uri": "https://localhost:8080/"
        },
        "id": "qCnGKDX1r8Mj",
        "outputId": "d0b459f0-6ed8-40a2-94e2-bcb8214f0a85"
      },
      "execution_count": null,
      "outputs": [
        {
          "output_type": "stream",
          "name": "stdout",
          "text": [
            "{'name': 'Iphone 5s', 'isAndriod': False, 'screenSize': 4.3}\n"
          ]
        }
      ]
    },
    {
      "cell_type": "code",
      "source": [
        "my_phone_dict['name']"
      ],
      "metadata": {
        "colab": {
          "base_uri": "https://localhost:8080/",
          "height": 35
        },
        "id": "dPHMU2dvsbkX",
        "outputId": "5d0be36d-359a-4ab1-a071-848044618f92"
      },
      "execution_count": null,
      "outputs": [
        {
          "output_type": "execute_result",
          "data": {
            "text/plain": [
              "'Iphone 5s'"
            ],
            "application/vnd.google.colaboratory.intrinsic+json": {
              "type": "string"
            }
          },
          "metadata": {},
          "execution_count": 33
        }
      ]
    },
    {
      "cell_type": "code",
      "source": [
        "print(my_phone_dict.keys())"
      ],
      "metadata": {
        "colab": {
          "base_uri": "https://localhost:8080/"
        },
        "id": "nrjZogkBspAP",
        "outputId": "e2b54d6e-cd11-4b9f-d989-595c461b7d66"
      },
      "execution_count": null,
      "outputs": [
        {
          "output_type": "stream",
          "name": "stdout",
          "text": [
            "dict_keys(['name', 'isAndriod', 'screenSize'])\n"
          ]
        }
      ]
    },
    {
      "cell_type": "code",
      "source": [
        "print(my_phone_dict.values())"
      ],
      "metadata": {
        "colab": {
          "base_uri": "https://localhost:8080/"
        },
        "id": "DGpZurbusvX4",
        "outputId": "4ec6fab9-41ca-4862-e378-c64c0d911828"
      },
      "execution_count": null,
      "outputs": [
        {
          "output_type": "stream",
          "name": "stdout",
          "text": [
            "dict_values(['Iphone 5s', False, 4.3])\n"
          ]
        }
      ]
    },
    {
      "cell_type": "code",
      "source": [
        "print(my_phone_dict.items())"
      ],
      "metadata": {
        "colab": {
          "base_uri": "https://localhost:8080/"
        },
        "id": "dXA06Y51szcy",
        "outputId": "342b273a-0161-4a7f-d436-59edff1d66ba"
      },
      "execution_count": null,
      "outputs": [
        {
          "output_type": "stream",
          "name": "stdout",
          "text": [
            "dict_items([('name', 'Iphone 5s'), ('isAndriod', False), ('screenSize', 4.3)])\n"
          ]
        }
      ]
    },
    {
      "cell_type": "code",
      "source": [
        "for key in my_phone_dict.keys():\n",
        "  print(key, my_phone_dict[key])"
      ],
      "metadata": {
        "colab": {
          "base_uri": "https://localhost:8080/"
        },
        "id": "EqgXboGas7yS",
        "outputId": "48ea95a4-e1a5-4a58-aa29-0f32d27f34da"
      },
      "execution_count": null,
      "outputs": [
        {
          "output_type": "stream",
          "name": "stdout",
          "text": [
            "name Iphone 5s\n",
            "isAndriod False\n",
            "screenSize 4.3\n"
          ]
        }
      ]
    },
    {
      "cell_type": "markdown",
      "source": [
        "# <font color=\"blue\"> Python Baics : Packages </font>"
      ],
      "metadata": {
        "id": "IRqpnMkbt3aF"
      }
    },
    {
      "cell_type": "code",
      "source": [
        "import math"
      ],
      "metadata": {
        "id": "ASaAaJFOtBVE"
      },
      "execution_count": null,
      "outputs": []
    },
    {
      "cell_type": "code",
      "source": [
        "print(math.sqrt(100))"
      ],
      "metadata": {
        "colab": {
          "base_uri": "https://localhost:8080/"
        },
        "id": "vJhysHgsY64Z",
        "outputId": "4540e713-700a-4308-cece-93164d23fe31"
      },
      "execution_count": null,
      "outputs": [
        {
          "output_type": "stream",
          "name": "stdout",
          "text": [
            "10.0\n"
          ]
        }
      ]
    },
    {
      "cell_type": "code",
      "source": [
        "print(math.pow(100,0.5))"
      ],
      "metadata": {
        "colab": {
          "base_uri": "https://localhost:8080/"
        },
        "id": "tb5eqgOvZDQi",
        "outputId": "f533724a-1095-42bb-d418-d5b99df399ef"
      },
      "execution_count": null,
      "outputs": [
        {
          "output_type": "stream",
          "name": "stdout",
          "text": [
            "10.0\n"
          ]
        }
      ]
    },
    {
      "cell_type": "markdown",
      "source": [
        "Math Library provides lots of in built functions"
      ],
      "metadata": {
        "id": "-pdMAHMdZpVd"
      }
    },
    {
      "cell_type": "code",
      "source": [
        "#For example of to calculate factorial of 100 \n",
        "x = 100\n",
        "y = 1\n",
        "for i in range(1, x):\n",
        "  y *= i\n",
        "print('Factorial of x is - ', x , ' is ', y)"
      ],
      "metadata": {
        "colab": {
          "base_uri": "https://localhost:8080/"
        },
        "id": "5iWWbzVwZM5X",
        "outputId": "632dd437-7c8f-4922-b01b-4aa34811b2a8"
      },
      "execution_count": null,
      "outputs": [
        {
          "output_type": "stream",
          "name": "stdout",
          "text": [
            "Factorial of x is -  100  is  933262154439441526816992388562667004907159682643816214685929638952175999932299156089414639761565182862536979208272237582511852109168640000000000000000000000\n"
          ]
        }
      ]
    },
    {
      "cell_type": "code",
      "source": [
        "#Using math function it is just one linear code\n",
        "print(math.factorial(x))"
      ],
      "metadata": {
        "colab": {
          "base_uri": "https://localhost:8080/"
        },
        "id": "mds2wgwJZm2x",
        "outputId": "d713b613-3776-4ad3-ba53-704c99bd31cf"
      },
      "execution_count": null,
      "outputs": [
        {
          "output_type": "stream",
          "name": "stdout",
          "text": [
            "93326215443944152681699238856266700490715968264381621468592963895217599993229915608941463976156518286253697920827223758251185210916864000000000000000000000000\n"
          ]
        }
      ]
    },
    {
      "cell_type": "code",
      "source": [
        "from math import factorial\n",
        "print(factorial (x))"
      ],
      "metadata": {
        "colab": {
          "base_uri": "https://localhost:8080/"
        },
        "id": "IMWYFErFZ4Fo",
        "outputId": "893e03d2-0de8-431f-bf48-5b0ec3a5b53d"
      },
      "execution_count": null,
      "outputs": [
        {
          "output_type": "stream",
          "name": "stdout",
          "text": [
            "93326215443944152681699238856266700490715968264381621468592963895217599993229915608941463976156518286253697920827223758251185210916864000000000000000000000000\n"
          ]
        }
      ]
    },
    {
      "cell_type": "code",
      "source": [
        "vals = list(range(1,100))\n",
        "tic = time.time()\n",
        "for x in vals:\n",
        "  y = 1\n",
        "  for i in range(1,x):\n",
        "    y *= i\n",
        "toc = time.time()\n",
        "ownFuncTime = toc - tic\n",
        "print('Time elapsed in seconds with own function', ownFuncTime)\n",
        "\n",
        "tic = time.time()\n",
        "for x in vals:\n",
        "  y = factorial(x)\n",
        "toc = time.time()\n",
        "FunctionTimeDiff = toc - tic\n",
        "print('Time elapsed in seconds with own function', FunctionTimeDiff)\n",
        "\n",
        "if(FunctionTimeDiff > ownFuncTime):\n",
        "  print('Own function is faster')\n",
        "else:\n",
        "  print('Math functions are faster')"
      ],
      "metadata": {
        "colab": {
          "base_uri": "https://localhost:8080/"
        },
        "id": "QiLdc1j5b-BI",
        "outputId": "503f3739-ebd8-4597-976a-2b628ca07dbb"
      },
      "execution_count": null,
      "outputs": [
        {
          "output_type": "stream",
          "name": "stdout",
          "text": [
            "Time elapsed in seconds with own function 0.0023925304412841797\n",
            "Time elapsed in seconds with own function 0.0002181529998779297\n",
            "Math functions are faster\n"
          ]
        }
      ]
    },
    {
      "cell_type": "markdown",
      "source": [
        "# Use your own package"
      ],
      "metadata": {
        "id": "I4XbVROberCi"
      }
    },
    {
      "cell_type": "code",
      "source": [
        "!echo 'def hello():' > my_first_module.py\n",
        "!echo '  print(\"Hello, I am living in a different file!!!!\")' >> my_first_module.py"
      ],
      "metadata": {
        "id": "U8v-ynHLdNwC"
      },
      "execution_count": null,
      "outputs": []
    },
    {
      "cell_type": "code",
      "source": [
        "!cat my_first_module.py"
      ],
      "metadata": {
        "colab": {
          "base_uri": "https://localhost:8080/"
        },
        "id": "VQE0h72efI_q",
        "outputId": "4e07e230-893a-453e-877d-6f74739a931e"
      },
      "execution_count": null,
      "outputs": [
        {
          "output_type": "stream",
          "name": "stdout",
          "text": [
            "def hello():\n",
            "  print(\"Hello, I am living in a different file!!!!\")\n"
          ]
        }
      ]
    },
    {
      "cell_type": "code",
      "source": [
        "#In order to use this file in your code, import it first\n",
        "import my_first_module\n",
        "my_first_module.hello()"
      ],
      "metadata": {
        "colab": {
          "base_uri": "https://localhost:8080/"
        },
        "id": "eROhLNCHfN7K",
        "outputId": "80dd1132-41ea-497e-a8de-7b95840555e9"
      },
      "execution_count": null,
      "outputs": [
        {
          "output_type": "stream",
          "name": "stdout",
          "text": [
            "Hello, I am living in a different file!!!!\n"
          ]
        }
      ]
    },
    {
      "cell_type": "code",
      "source": [
        "from my_first_module import hello\n",
        "hello()"
      ],
      "metadata": {
        "colab": {
          "base_uri": "https://localhost:8080/"
        },
        "id": "ubrrdD7Vfcoc",
        "outputId": "a8c12d86-56d3-42a9-ce63-698bcb6ff115"
      },
      "execution_count": null,
      "outputs": [
        {
          "output_type": "stream",
          "name": "stdout",
          "text": [
            "Hello, I am living in a different file!!!!\n"
          ]
        }
      ]
    },
    {
      "cell_type": "markdown",
      "source": [
        "#File Handling"
      ],
      "metadata": {
        "id": "26B5bIVQgHAk"
      }
    },
    {
      "cell_type": "code",
      "source": [
        "!wget https://raw.githubusercontent.com/likhitha9reddy/PadhAI/master/mobile_cleaned.csv"
      ],
      "metadata": {
        "colab": {
          "base_uri": "https://localhost:8080/"
        },
        "id": "ZMi9-cIBgIjd",
        "outputId": "fbc8adac-daf6-4fbe-e5ce-c943fe064d35"
      },
      "execution_count": null,
      "outputs": [
        {
          "output_type": "stream",
          "name": "stdout",
          "text": [
            "--2022-10-24 10:35:54--  https://raw.githubusercontent.com/likhitha9reddy/PadhAI/master/mobile_cleaned.csv\n",
            "Resolving raw.githubusercontent.com (raw.githubusercontent.com)... 185.199.111.133, 185.199.110.133, 185.199.108.133, ...\n",
            "Connecting to raw.githubusercontent.com (raw.githubusercontent.com)|185.199.111.133|:443... connected.\n",
            "HTTP request sent, awaiting response... 200 OK\n",
            "Length: 14044 (14K) [text/plain]\n",
            "Saving to: ‘mobile_cleaned.csv’\n",
            "\n",
            "\rmobile_cleaned.csv    0%[                    ]       0  --.-KB/s               \rmobile_cleaned.csv  100%[===================>]  13.71K  --.-KB/s    in 0s      \n",
            "\n",
            "2022-10-24 10:35:54 (85.7 MB/s) - ‘mobile_cleaned.csv’ saved [14044/14044]\n",
            "\n"
          ]
        }
      ]
    },
    {
      "cell_type": "code",
      "source": [
        "!ls"
      ],
      "metadata": {
        "colab": {
          "base_uri": "https://localhost:8080/"
        },
        "id": "9AziOSW8gcpi",
        "outputId": "9665c35c-c31b-44ed-d4b2-b3c480bd744f"
      },
      "execution_count": null,
      "outputs": [
        {
          "output_type": "stream",
          "name": "stdout",
          "text": [
            "mobile_cleaned.csv  my_first_module.py\t__pycache__  sample_data\n"
          ]
        }
      ]
    },
    {
      "cell_type": "code",
      "source": [
        "files = open('mobile_cleaned.csv','r')"
      ],
      "metadata": {
        "id": "FlJe2J0jhjvf"
      },
      "execution_count": null,
      "outputs": []
    },
    {
      "cell_type": "code",
      "source": [
        "s = files.readline()"
      ],
      "metadata": {
        "id": "sDcgwgNNhxjx"
      },
      "execution_count": null,
      "outputs": []
    },
    {
      "cell_type": "code",
      "source": [
        "print(s)"
      ],
      "metadata": {
        "colab": {
          "base_uri": "https://localhost:8080/"
        },
        "id": "Sum6WeGXh2mI",
        "outputId": "83029261-05e1-423d-f995-7942f5f31ecd"
      },
      "execution_count": null,
      "outputs": [
        {
          "output_type": "stream",
          "name": "stdout",
          "text": [
            "sim_type,aperture,gpu_rank,weight,stand_by_time,processor_frequency,thickness,flash_type,front_camera_resolution,auto_focus,screen_size,frames_per_second,FM,no_of_reviews_in_gsmarena_in_week,os,phone_height,screen_protection,sim_size,price,talk_time,video_resolution,display_resolution,removable_battery,display_type,primary_camera_resolution,battery_type,ram_memory,internal_memory,brand_rank,no_of_cores,micro_sd_slot,screen_pixel_density,water_proof_rate,phone_width,expandable_memory,version,usb_type,battery_capacity,processor_rank,is_liked\n",
            "\n"
          ]
        }
      ]
    },
    {
      "cell_type": "code",
      "source": [
        "print(s.split(','))"
      ],
      "metadata": {
        "colab": {
          "base_uri": "https://localhost:8080/"
        },
        "id": "9z_QX-7RiqhU",
        "outputId": "0fee39fc-92f3-40dc-8bb2-4a246dda3e8d"
      },
      "execution_count": null,
      "outputs": [
        {
          "output_type": "stream",
          "name": "stdout",
          "text": [
            "['sim_type', 'aperture', 'gpu_rank', 'weight', 'stand_by_time', 'processor_frequency', 'thickness', 'flash_type', 'front_camera_resolution', 'auto_focus', 'screen_size', 'frames_per_second', 'FM', 'no_of_reviews_in_gsmarena_in_week', 'os', 'phone_height', 'screen_protection', 'sim_size', 'price', 'talk_time', 'video_resolution', 'display_resolution', 'removable_battery', 'display_type', 'primary_camera_resolution', 'battery_type', 'ram_memory', 'internal_memory', 'brand_rank', 'no_of_cores', 'micro_sd_slot', 'screen_pixel_density', 'water_proof_rate', 'phone_width', 'expandable_memory', 'version', 'usb_type', 'battery_capacity', 'processor_rank', 'is_liked\\n']\n"
          ]
        }
      ]
    },
    {
      "cell_type": "code",
      "source": [
        "files.close()"
      ],
      "metadata": {
        "id": "hwLkP0ldiaEA"
      },
      "execution_count": null,
      "outputs": []
    },
    {
      "cell_type": "markdown",
      "source": [
        "Another approach to access a file"
      ],
      "metadata": {
        "id": "lE3K_3HJkZ-B"
      }
    },
    {
      "cell_type": "code",
      "source": [
        "with open('mobile_cleaned.csv','r') as file:\n",
        "  print(file.readline())"
      ],
      "metadata": {
        "colab": {
          "base_uri": "https://localhost:8080/"
        },
        "id": "s4N3HnFwinlV",
        "outputId": "74d284db-4e12-4c5d-b1b6-7f1afe3275ee"
      },
      "execution_count": null,
      "outputs": [
        {
          "output_type": "stream",
          "name": "stdout",
          "text": [
            "sim_type,aperture,gpu_rank,weight,stand_by_time,processor_frequency,thickness,flash_type,front_camera_resolution,auto_focus,screen_size,frames_per_second,FM,no_of_reviews_in_gsmarena_in_week,os,phone_height,screen_protection,sim_size,price,talk_time,video_resolution,display_resolution,removable_battery,display_type,primary_camera_resolution,battery_type,ram_memory,internal_memory,brand_rank,no_of_cores,micro_sd_slot,screen_pixel_density,water_proof_rate,phone_width,expandable_memory,version,usb_type,battery_capacity,processor_rank,is_liked\n",
            "\n"
          ]
        }
      ]
    },
    {
      "cell_type": "code",
      "source": [
        "with open('mobile_cleaned.csv','r') as file:\n",
        "  print(file.read())"
      ],
      "metadata": {
        "id": "76PncjFLkY0f"
      },
      "execution_count": null,
      "outputs": []
    },
    {
      "cell_type": "code",
      "source": [
        "with open('mobile_cleaned.csv','r') as file:\n",
        "  for line in file:\n",
        "    print(line)"
      ],
      "metadata": {
        "id": "KJ8HplSCkibM"
      },
      "execution_count": null,
      "outputs": []
    },
    {
      "cell_type": "code",
      "source": [
        "with open('mobile_cleaned.csv','r') as file:\n",
        "  for line in file:\n",
        "    for word in line.split(','):\n",
        "      print(word)\n",
        "    print('================')"
      ],
      "metadata": {
        "id": "YTfhe6p3kxUX"
      },
      "execution_count": null,
      "outputs": []
    },
    {
      "cell_type": "markdown",
      "source": [
        "### Write to a file"
      ],
      "metadata": {
        "id": "_QgzJC4Slslu"
      }
    },
    {
      "cell_type": "code",
      "source": [
        "with open ('my_first_file_output.txt','w') as file:\n",
        "  file.write('Hello world from python code')"
      ],
      "metadata": {
        "id": "s1D7l7ULlQFV"
      },
      "execution_count": null,
      "outputs": []
    },
    {
      "cell_type": "code",
      "source": [
        "!cat my_first_file_output.txt"
      ],
      "metadata": {
        "colab": {
          "base_uri": "https://localhost:8080/"
        },
        "id": "7NWNSHVIl8z2",
        "outputId": "b58cc222-d69f-4fee-94d8-bc4d13e4d867"
      },
      "execution_count": null,
      "outputs": [
        {
          "output_type": "stream",
          "name": "stdout",
          "text": [
            "Hello world from python code"
          ]
        }
      ]
    },
    {
      "cell_type": "markdown",
      "source": [
        "#Python Classes"
      ],
      "metadata": {
        "id": "ME7eDQ2QAao0"
      }
    },
    {
      "cell_type": "code",
      "source": [
        "class MobilePhone:\n",
        "  \"\"\"This is a sample class to demonstrate how python classes work\"\"\"\n",
        "  def __init__(self, name, is_android=False, screen_size = 4.3):\n",
        "    self.name = name\n",
        "    self.is_android = is_android\n",
        "    self.screen_size = screen_size\n",
        "    self.rating = -1\n",
        "  def has_rating(self, rating):\n",
        "    return self.rating > rating"
      ],
      "metadata": {
        "id": "QdEBi6TimAGY"
      },
      "execution_count": null,
      "outputs": []
    },
    {
      "cell_type": "code",
      "source": [
        "new_phone = MobilePhone('IPhone 5s')"
      ],
      "metadata": {
        "id": "EJ0L3y7oCLP1"
      },
      "execution_count": null,
      "outputs": []
    },
    {
      "cell_type": "code",
      "source": [
        "new_phone.name"
      ],
      "metadata": {
        "colab": {
          "base_uri": "https://localhost:8080/",
          "height": 35
        },
        "id": "z8ILB-KqCQfG",
        "outputId": "55394566-49e7-410e-8292-ba6437dc5e9a"
      },
      "execution_count": null,
      "outputs": [
        {
          "output_type": "execute_result",
          "data": {
            "text/plain": [
              "'IPhone 5s'"
            ],
            "application/vnd.google.colaboratory.intrinsic+json": {
              "type": "string"
            }
          },
          "metadata": {},
          "execution_count": 24
        }
      ]
    },
    {
      "cell_type": "code",
      "source": [
        "new_phone.is_android"
      ],
      "metadata": {
        "colab": {
          "base_uri": "https://localhost:8080/"
        },
        "id": "_qU0QtdhCSqU",
        "outputId": "fdbab7a5-8bca-4a9f-a9d4-9baea417129e"
      },
      "execution_count": null,
      "outputs": [
        {
          "output_type": "execute_result",
          "data": {
            "text/plain": [
              "False"
            ]
          },
          "metadata": {},
          "execution_count": 25
        }
      ]
    },
    {
      "cell_type": "code",
      "source": [
        "new_phone.screen_size"
      ],
      "metadata": {
        "colab": {
          "base_uri": "https://localhost:8080/"
        },
        "id": "1ty4H5cOCVlg",
        "outputId": "635019b2-825a-4fc1-d76b-878b791bf381"
      },
      "execution_count": null,
      "outputs": [
        {
          "output_type": "execute_result",
          "data": {
            "text/plain": [
              "4.3"
            ]
          },
          "metadata": {},
          "execution_count": 26
        }
      ]
    },
    {
      "cell_type": "code",
      "source": [
        "new_phone.screen_size = 4"
      ],
      "metadata": {
        "id": "r3MIL1OXCZLl"
      },
      "execution_count": null,
      "outputs": []
    },
    {
      "cell_type": "code",
      "source": [
        "new_phone.has_rating(1)"
      ],
      "metadata": {
        "colab": {
          "base_uri": "https://localhost:8080/"
        },
        "id": "-pe6eJReDGJo",
        "outputId": "5d4585ea-c00d-4544-b6ba-9efb6bc8b7aa"
      },
      "execution_count": null,
      "outputs": [
        {
          "output_type": "execute_result",
          "data": {
            "text/plain": [
              "False"
            ]
          },
          "metadata": {},
          "execution_count": 28
        }
      ]
    },
    {
      "cell_type": "code",
      "source": [
        "new_phone.rating = 3.5"
      ],
      "metadata": {
        "id": "kOkkahspDpQM"
      },
      "execution_count": null,
      "outputs": []
    },
    {
      "cell_type": "code",
      "source": [
        "new_phone.has_rating(3)"
      ],
      "metadata": {
        "colab": {
          "base_uri": "https://localhost:8080/"
        },
        "id": "G_UESUTOEQzw",
        "outputId": "be444ee0-7088-4b95-8f06-0129d2d1e524"
      },
      "execution_count": null,
      "outputs": [
        {
          "output_type": "execute_result",
          "data": {
            "text/plain": [
              "True"
            ]
          },
          "metadata": {},
          "execution_count": 30
        }
      ]
    },
    {
      "cell_type": "code",
      "source": [
        "MobilePhone.__doc__"
      ],
      "metadata": {
        "colab": {
          "base_uri": "https://localhost:8080/",
          "height": 35
        },
        "id": "WMSX9mLEEVGK",
        "outputId": "33d7ab95-3492-47ca-fb16-4db0c742d485"
      },
      "execution_count": null,
      "outputs": [
        {
          "output_type": "execute_result",
          "data": {
            "text/plain": [
              "'This is a sample class to demonstrate how python classes work'"
            ],
            "application/vnd.google.colaboratory.intrinsic+json": {
              "type": "string"
            }
          },
          "metadata": {},
          "execution_count": 31
        }
      ]
    },
    {
      "cell_type": "markdown",
      "source": [
        "### Inheritence in Python"
      ],
      "metadata": {
        "id": "emhVCqCNFF2r"
      }
    },
    {
      "cell_type": "code",
      "source": [
        "class iPhone(MobilePhone):\n",
        "  def __init__(self, name):\n",
        "    MobilePhone.__init__(self, name, False, 4)\n",
        "\n",
        "  def __str__(self):\n",
        "    return self.name + \" \" + str(self.is_android) + \" \" + str(self.screen_size)\n"
      ],
      "metadata": {
        "id": "nzBhEuTSE9cL"
      },
      "execution_count": null,
      "outputs": []
    },
    {
      "cell_type": "code",
      "source": [
        "new_phone = iPhone('IPhone 11')"
      ],
      "metadata": {
        "id": "Bz_ekTPKGHg5"
      },
      "execution_count": null,
      "outputs": []
    },
    {
      "cell_type": "code",
      "source": [
        "new_phone.is_android"
      ],
      "metadata": {
        "colab": {
          "base_uri": "https://localhost:8080/"
        },
        "id": "1q1KjXqrGOAa",
        "outputId": "11c49c8a-2d05-4bf0-83d9-bc93e9e10ade"
      },
      "execution_count": null,
      "outputs": [
        {
          "output_type": "execute_result",
          "data": {
            "text/plain": [
              "False"
            ]
          },
          "metadata": {},
          "execution_count": 34
        }
      ]
    },
    {
      "cell_type": "code",
      "source": [
        "#This will invoke str function of iPhone class\n",
        "print(new_phone)"
      ],
      "metadata": {
        "colab": {
          "base_uri": "https://localhost:8080/"
        },
        "id": "OALZYIUHGRQ_",
        "outputId": "84444e94-7431-4cf0-e0f4-dc2bbb991b3d"
      },
      "execution_count": null,
      "outputs": [
        {
          "output_type": "stream",
          "name": "stdout",
          "text": [
            "IPhone 11 False 4\n"
          ]
        }
      ]
    },
    {
      "cell_type": "markdown",
      "source": [
        "# Numpy (Num stands for Numerical and Py stands for Python)"
      ],
      "metadata": {
        "id": "VtBZQPzcG4LJ"
      }
    },
    {
      "cell_type": "code",
      "source": [
        "import numpy as np"
      ],
      "metadata": {
        "id": "KW4vEDZRGVI2"
      },
      "execution_count": 2,
      "outputs": []
    },
    {
      "cell_type": "code",
      "source": [
        "x = np.array([1,2,3])\n",
        "print(x)"
      ],
      "metadata": {
        "colab": {
          "base_uri": "https://localhost:8080/"
        },
        "id": "ryMqh4L4HBSV",
        "outputId": "154eb870-7a1c-4af2-8d80-5d8a2c73e527"
      },
      "execution_count": null,
      "outputs": [
        {
          "output_type": "stream",
          "name": "stdout",
          "text": [
            "[1 2 3]\n"
          ]
        }
      ]
    },
    {
      "cell_type": "code",
      "source": [
        "type(x)"
      ],
      "metadata": {
        "colab": {
          "base_uri": "https://localhost:8080/"
        },
        "id": "595BBa82HFqU",
        "outputId": "e4e69207-7733-44eb-cf92-87292949f500"
      },
      "execution_count": null,
      "outputs": [
        {
          "output_type": "execute_result",
          "data": {
            "text/plain": [
              "numpy.ndarray"
            ]
          },
          "metadata": {},
          "execution_count": 40
        }
      ]
    },
    {
      "cell_type": "code",
      "source": [
        "#Converting a list into Numpy array\n",
        "i = [4,6,10]\n",
        "x = np.asarray(i)\n",
        "type(x)"
      ],
      "metadata": {
        "colab": {
          "base_uri": "https://localhost:8080/"
        },
        "id": "j04nCBqeHKj5",
        "outputId": "ea8246b4-2bb2-4a02-b078-4c5c4a645aaf"
      },
      "execution_count": null,
      "outputs": [
        {
          "output_type": "execute_result",
          "data": {
            "text/plain": [
              "numpy.ndarray"
            ]
          },
          "metadata": {},
          "execution_count": 41
        }
      ]
    },
    {
      "cell_type": "code",
      "source": [
        "#while converting to np array it can be converted into float\n",
        "x = np.asarray(i,float)\n",
        "print(x)"
      ],
      "metadata": {
        "colab": {
          "base_uri": "https://localhost:8080/"
        },
        "id": "dopB9_gTHZEN",
        "outputId": "4c4672da-9138-420b-d6a9-00e233883cca"
      },
      "execution_count": null,
      "outputs": [
        {
          "output_type": "stream",
          "name": "stdout",
          "text": [
            "[ 4.  6. 10.]\n"
          ]
        }
      ]
    },
    {
      "cell_type": "code",
      "source": [
        "x.shape"
      ],
      "metadata": {
        "colab": {
          "base_uri": "https://localhost:8080/"
        },
        "id": "1zdN7zecHtqL",
        "outputId": "c6dc13e7-feb2-4c95-afa7-11715f52974a"
      },
      "execution_count": null,
      "outputs": [
        {
          "output_type": "execute_result",
          "data": {
            "text/plain": [
              "(3,)"
            ]
          },
          "metadata": {},
          "execution_count": 44
        }
      ]
    },
    {
      "cell_type": "code",
      "source": [
        "np.array?"
      ],
      "metadata": {
        "id": "lSsPe-wDH3kB"
      },
      "execution_count": null,
      "outputs": []
    },
    {
      "cell_type": "code",
      "source": [
        "#Create two dmensional array\n",
        "x = np.array([[1,2,3],[4,5,6],[7,8,9]])\n",
        "print(x)"
      ],
      "metadata": {
        "colab": {
          "base_uri": "https://localhost:8080/"
        },
        "id": "gXObLrHYH8pN",
        "outputId": "55ffdd32-79c8-467e-e677-a2ccbffda96d"
      },
      "execution_count": null,
      "outputs": [
        {
          "output_type": "stream",
          "name": "stdout",
          "text": [
            "[[1 2 3]\n",
            " [4 5 6]\n",
            " [7 8 9]]\n"
          ]
        }
      ]
    },
    {
      "cell_type": "code",
      "source": [
        "x.shape"
      ],
      "metadata": {
        "colab": {
          "base_uri": "https://localhost:8080/"
        },
        "id": "nc5M0Y3QJFCo",
        "outputId": "d4aaf23f-85d4-480f-cbc8-3729f64e9501"
      },
      "execution_count": null,
      "outputs": [
        {
          "output_type": "execute_result",
          "data": {
            "text/plain": [
              "(3, 3)"
            ]
          },
          "metadata": {},
          "execution_count": 51
        }
      ]
    },
    {
      "cell_type": "code",
      "source": [
        "#Access elements of two dimensional array\n",
        "x[0,0]"
      ],
      "metadata": {
        "colab": {
          "base_uri": "https://localhost:8080/"
        },
        "id": "_JNB0suzJNt1",
        "outputId": "dd08685b-97da-42ee-941d-2ddf1d01e14e"
      },
      "execution_count": null,
      "outputs": [
        {
          "output_type": "execute_result",
          "data": {
            "text/plain": [
              "1"
            ]
          },
          "metadata": {},
          "execution_count": 53
        }
      ]
    },
    {
      "cell_type": "code",
      "source": [
        "#Access 2nd and 3rd element of 3rd array \n",
        "print(x[2 , 1:3])"
      ],
      "metadata": {
        "colab": {
          "base_uri": "https://localhost:8080/"
        },
        "id": "fCXBtCOOJipV",
        "outputId": "92d05617-c62b-4852-b178-440d9cf78ba5"
      },
      "execution_count": null,
      "outputs": [
        {
          "output_type": "stream",
          "name": "stdout",
          "text": [
            "[8 9]\n"
          ]
        }
      ]
    },
    {
      "cell_type": "code",
      "source": [
        "#Access all elements of second array\n",
        "print(x[1, :])"
      ],
      "metadata": {
        "colab": {
          "base_uri": "https://localhost:8080/"
        },
        "id": "6aaTiQIXJ2ue",
        "outputId": "a26c2e2a-b46a-47b0-c1fe-a29877d56135"
      },
      "execution_count": null,
      "outputs": [
        {
          "output_type": "stream",
          "name": "stdout",
          "text": [
            "[4 5 6]\n"
          ]
        }
      ]
    },
    {
      "cell_type": "code",
      "source": [
        "#create a 4 X 5 zeroes matrix\n",
        "x = np.zeros((4,5))\n",
        "print(x)"
      ],
      "metadata": {
        "colab": {
          "base_uri": "https://localhost:8080/"
        },
        "id": "cAOyQBFeK6SR",
        "outputId": "1ad7b8bd-9da8-4d5c-f282-f4f37db1795e"
      },
      "execution_count": null,
      "outputs": [
        {
          "output_type": "stream",
          "name": "stdout",
          "text": [
            "[[0. 0. 0. 0. 0.]\n",
            " [0. 0. 0. 0. 0.]\n",
            " [0. 0. 0. 0. 0.]\n",
            " [0. 0. 0. 0. 0.]]\n"
          ]
        }
      ]
    },
    {
      "cell_type": "code",
      "source": [
        "#Create an identity matrix\n",
        "x = np.eye(4,4)\n",
        "print(x)"
      ],
      "metadata": {
        "colab": {
          "base_uri": "https://localhost:8080/"
        },
        "id": "o53R_QdnLmRx",
        "outputId": "f1c0ec6e-2d2b-4904-8889-8ed6ce0e3512"
      },
      "execution_count": null,
      "outputs": [
        {
          "output_type": "stream",
          "name": "stdout",
          "text": [
            "[[1. 0. 0. 0.]\n",
            " [0. 1. 0. 0.]\n",
            " [0. 0. 1. 0.]\n",
            " [0. 0. 0. 1.]]\n"
          ]
        }
      ]
    },
    {
      "cell_type": "code",
      "source": [
        "#Create an array of random number\n",
        "x = np.random.random((4,5))\n",
        "print(x)"
      ],
      "metadata": {
        "colab": {
          "base_uri": "https://localhost:8080/"
        },
        "id": "uiHpgaAaLujl",
        "outputId": "c188a0ce-92f0-46e1-874f-79640b34755d"
      },
      "execution_count": null,
      "outputs": [
        {
          "output_type": "stream",
          "name": "stdout",
          "text": [
            "[[0.32847819 0.43042057 0.94403511 0.81743982 0.1605277 ]\n",
            " [0.49067961 0.04746119 0.24705169 0.83666234 0.23522817]\n",
            " [0.44076359 0.52542904 0.17619774 0.42125677 0.98289551]\n",
            " [0.95442771 0.21539102 0.92073337 0.54896035 0.08590125]]\n"
          ]
        }
      ]
    },
    {
      "cell_type": "code",
      "source": [
        "#Transpose of Matrix\n",
        "z = x.T\n",
        "print(z)"
      ],
      "metadata": {
        "colab": {
          "base_uri": "https://localhost:8080/"
        },
        "id": "lQLhjsv0MMOq",
        "outputId": "91b56e7c-ff05-4e77-f6d3-ff96f1044419"
      },
      "execution_count": null,
      "outputs": [
        {
          "output_type": "stream",
          "name": "stdout",
          "text": [
            "[[0.32847819 0.49067961 0.44076359 0.95442771]\n",
            " [0.43042057 0.04746119 0.52542904 0.21539102]\n",
            " [0.94403511 0.24705169 0.17619774 0.92073337]\n",
            " [0.81743982 0.83666234 0.42125677 0.54896035]\n",
            " [0.1605277  0.23522817 0.98289551 0.08590125]]\n"
          ]
        }
      ]
    },
    {
      "cell_type": "code",
      "source": [
        "#Reshape Matrix\n",
        "y = z.reshape(10,2)\n",
        "print(y)"
      ],
      "metadata": {
        "colab": {
          "base_uri": "https://localhost:8080/"
        },
        "id": "-sfovUvuMch4",
        "outputId": "4f8ca3a2-df81-4222-9de8-9e5e69d69633"
      },
      "execution_count": null,
      "outputs": [
        {
          "output_type": "stream",
          "name": "stdout",
          "text": [
            "[[0.32847819 0.49067961]\n",
            " [0.44076359 0.95442771]\n",
            " [0.43042057 0.04746119]\n",
            " [0.52542904 0.21539102]\n",
            " [0.94403511 0.24705169]\n",
            " [0.17619774 0.92073337]\n",
            " [0.81743982 0.83666234]\n",
            " [0.42125677 0.54896035]\n",
            " [0.1605277  0.23522817]\n",
            " [0.98289551 0.08590125]]\n"
          ]
        }
      ]
    },
    {
      "cell_type": "code",
      "source": [
        "#Arange function\n",
        "A = np.arange(5)\n",
        "print(A)"
      ],
      "metadata": {
        "colab": {
          "base_uri": "https://localhost:8080/"
        },
        "id": "1m713PjkMsvi",
        "outputId": "3e778300-1645-40c3-a5ba-1bbbd8758b3f"
      },
      "execution_count": 17,
      "outputs": [
        {
          "output_type": "stream",
          "name": "stdout",
          "text": [
            "[0 1 2 3 4]\n"
          ]
        }
      ]
    },
    {
      "cell_type": "code",
      "source": [
        "B = np.arange(5)"
      ],
      "metadata": {
        "id": "e7OGHuhEN7qP"
      },
      "execution_count": 18,
      "outputs": []
    },
    {
      "cell_type": "code",
      "source": [
        "print(A + B)"
      ],
      "metadata": {
        "colab": {
          "base_uri": "https://localhost:8080/"
        },
        "id": "sKuVa3yvOBtd",
        "outputId": "fcd9b167-4fac-4e76-99b6-2c076db9c0a9"
      },
      "execution_count": null,
      "outputs": [
        {
          "output_type": "stream",
          "name": "stdout",
          "text": [
            "[0 2 4 6 8]\n"
          ]
        }
      ]
    },
    {
      "cell_type": "code",
      "source": [
        "print(A - B)"
      ],
      "metadata": {
        "colab": {
          "base_uri": "https://localhost:8080/"
        },
        "id": "gmfmOe5ROD1y",
        "outputId": "73c6bdc5-c42d-4d6a-b376-074ada4c685b"
      },
      "execution_count": null,
      "outputs": [
        {
          "output_type": "stream",
          "name": "stdout",
          "text": [
            "[0 0 0 0 0]\n"
          ]
        }
      ]
    },
    {
      "cell_type": "code",
      "source": [
        "print( A * B)"
      ],
      "metadata": {
        "colab": {
          "base_uri": "https://localhost:8080/"
        },
        "id": "L5k5eroOOGbT",
        "outputId": "ede711a6-1c69-4e5f-c0ea-a871d4be08e7"
      },
      "execution_count": null,
      "outputs": [
        {
          "output_type": "stream",
          "name": "stdout",
          "text": [
            "[ 0  1  4  9 16]\n"
          ]
        }
      ]
    },
    {
      "cell_type": "code",
      "source": [
        "#Broadcasting in python\n",
        "#Here A is vector and 1 is scalar, but pyton has broadcasting feature by which scalar value is added to each element of v\n",
        "print(A , A + 1)"
      ],
      "metadata": {
        "colab": {
          "base_uri": "https://localhost:8080/"
        },
        "id": "ExUzlh_tOJK9",
        "outputId": "09eb769c-6c1f-49cd-88e2-292515176e6a"
      },
      "execution_count": null,
      "outputs": [
        {
          "output_type": "stream",
          "name": "stdout",
          "text": [
            "[0 1 2 3 4] [1 2 3 4 5]\n"
          ]
        }
      ]
    },
    {
      "cell_type": "code",
      "source": [
        "#Scalar value can be added for two dimensional arrray as well\n",
        "A = np.random.random((2,3))\n",
        "print(A)\n",
        "print(A + 1) #Broad casting"
      ],
      "metadata": {
        "colab": {
          "base_uri": "https://localhost:8080/"
        },
        "id": "uehpgzJWOlT8",
        "outputId": "9cb77d3d-4c80-4210-f7ce-6d34d821c678"
      },
      "execution_count": null,
      "outputs": [
        {
          "output_type": "stream",
          "name": "stdout",
          "text": [
            "[[0.91844129 0.57760578 0.18096134]\n",
            " [0.43525345 0.93392322 0.9744738 ]]\n",
            "[[1.91844129 1.57760578 1.18096134]\n",
            " [1.43525345 1.93392322 1.9744738 ]]\n"
          ]
        }
      ]
    },
    {
      "cell_type": "code",
      "source": [
        "A = np.floor(np.random.random((2,3))*10)\n",
        "print(A)"
      ],
      "metadata": {
        "colab": {
          "base_uri": "https://localhost:8080/"
        },
        "id": "K9hmKFozPCOA",
        "outputId": "f1108259-caf6-44a6-d369-531bc7604a3f"
      },
      "execution_count": null,
      "outputs": [
        {
          "output_type": "stream",
          "name": "stdout",
          "text": [
            "[[6. 8. 4.]\n",
            " [8. 7. 9.]]\n"
          ]
        }
      ]
    },
    {
      "cell_type": "code",
      "source": [
        "#Algebric operation\n",
        "u = [1,2,3]\n",
        "v = [-1, 0 ,1]\n",
        "\n",
        "#inner product multiply element wise and add them 1 * -1 + 2 * 0 + 3 *1\n",
        "pl = np.inner(u , v)\n",
        "print(pl)\n",
        "\n",
        "print()\n",
        "print()\n",
        "\n",
        "# outer product 1 with v, 2 with v , 3 with v\n",
        "p2 = np.outer( u , v)\n",
        "print(p2)"
      ],
      "metadata": {
        "colab": {
          "base_uri": "https://localhost:8080/"
        },
        "id": "YzcfCM6mPZxn",
        "outputId": "f299595d-5170-47a6-df7c-65c358679bea"
      },
      "execution_count": 7,
      "outputs": [
        {
          "output_type": "stream",
          "name": "stdout",
          "text": [
            "2\n",
            "\n",
            "\n",
            "[[-1  0  1]\n",
            " [-2  0  2]\n",
            " [-3  0  3]]\n"
          ]
        }
      ]
    },
    {
      "cell_type": "code",
      "source": [
        "#Dot product\n",
        "print(np.dot(u, v))"
      ],
      "metadata": {
        "colab": {
          "base_uri": "https://localhost:8080/"
        },
        "id": "pWzn5yBzRfWr",
        "outputId": "cf33df23-1531-4ccd-8694-869d55a6ab18"
      },
      "execution_count": 8,
      "outputs": [
        {
          "output_type": "stream",
          "name": "stdout",
          "text": [
            "2\n"
          ]
        }
      ]
    },
    {
      "cell_type": "code",
      "source": [
        "#Sum array elements\n",
        "print(np.sum(u))"
      ],
      "metadata": {
        "colab": {
          "base_uri": "https://localhost:8080/"
        },
        "id": "_AjoqbkbRwXi",
        "outputId": "e8b475fd-9a1c-475e-ad4a-557d7a4f08de"
      },
      "execution_count": 9,
      "outputs": [
        {
          "output_type": "stream",
          "name": "stdout",
          "text": [
            "6\n"
          ]
        }
      ]
    },
    {
      "cell_type": "code",
      "source": [
        "#Columnwise sum\n",
        "np.asarray(u).sum(axis=0)"
      ],
      "metadata": {
        "id": "YLv1-GNuR2n1",
        "colab": {
          "base_uri": "https://localhost:8080/"
        },
        "outputId": "e3919aec-fcad-460d-d4e8-6434f3425b2f"
      },
      "execution_count": 12,
      "outputs": [
        {
          "output_type": "execute_result",
          "data": {
            "text/plain": [
              "6"
            ]
          },
          "metadata": {},
          "execution_count": 12
        }
      ]
    },
    {
      "cell_type": "code",
      "source": [
        "#Row wise sum\n",
        "A.sum(axis=1)"
      ],
      "metadata": {
        "colab": {
          "base_uri": "https://localhost:8080/",
          "height": 304
        },
        "id": "qMAkIlFlMN0J",
        "outputId": "e8e69b93-f76c-4b79-f4ac-cd567954a63a"
      },
      "execution_count": 19,
      "outputs": [
        {
          "output_type": "error",
          "ename": "AxisError",
          "evalue": "ignored",
          "traceback": [
            "\u001b[0;31m---------------------------------------------------------------------------\u001b[0m",
            "\u001b[0;31mAxisError\u001b[0m                                 Traceback (most recent call last)",
            "\u001b[0;32m<ipython-input-19-82104a8a9fec>\u001b[0m in \u001b[0;36m<module>\u001b[0;34m\u001b[0m\n\u001b[1;32m      1\u001b[0m \u001b[0;31m#Row wise sum\u001b[0m\u001b[0;34m\u001b[0m\u001b[0;34m\u001b[0m\u001b[0;34m\u001b[0m\u001b[0m\n\u001b[0;32m----> 2\u001b[0;31m \u001b[0mA\u001b[0m\u001b[0;34m.\u001b[0m\u001b[0msum\u001b[0m\u001b[0;34m(\u001b[0m\u001b[0maxis\u001b[0m\u001b[0;34m=\u001b[0m\u001b[0;36m1\u001b[0m\u001b[0;34m)\u001b[0m\u001b[0;34m\u001b[0m\u001b[0;34m\u001b[0m\u001b[0m\n\u001b[0m",
            "\u001b[0;32m/usr/local/lib/python3.7/dist-packages/numpy/core/_methods.py\u001b[0m in \u001b[0;36m_sum\u001b[0;34m(a, axis, dtype, out, keepdims, initial, where)\u001b[0m\n\u001b[1;32m     46\u001b[0m def _sum(a, axis=None, dtype=None, out=None, keepdims=False,\n\u001b[1;32m     47\u001b[0m          initial=_NoValue, where=True):\n\u001b[0;32m---> 48\u001b[0;31m     \u001b[0;32mreturn\u001b[0m \u001b[0mumr_sum\u001b[0m\u001b[0;34m(\u001b[0m\u001b[0ma\u001b[0m\u001b[0;34m,\u001b[0m \u001b[0maxis\u001b[0m\u001b[0;34m,\u001b[0m \u001b[0mdtype\u001b[0m\u001b[0;34m,\u001b[0m \u001b[0mout\u001b[0m\u001b[0;34m,\u001b[0m \u001b[0mkeepdims\u001b[0m\u001b[0;34m,\u001b[0m \u001b[0minitial\u001b[0m\u001b[0;34m,\u001b[0m \u001b[0mwhere\u001b[0m\u001b[0;34m)\u001b[0m\u001b[0;34m\u001b[0m\u001b[0;34m\u001b[0m\u001b[0m\n\u001b[0m\u001b[1;32m     49\u001b[0m \u001b[0;34m\u001b[0m\u001b[0m\n\u001b[1;32m     50\u001b[0m def _prod(a, axis=None, dtype=None, out=None, keepdims=False,\n",
            "\u001b[0;31mAxisError\u001b[0m: axis 1 is out of bounds for array of dimension 1"
          ]
        }
      ]
    },
    {
      "cell_type": "code",
      "source": [
        "\n",
        "\n",
        "\n"
      ],
      "metadata": {
        "id": "IbjV-6kdNfYn"
      },
      "execution_count": null,
      "outputs": []
    }
  ]
}